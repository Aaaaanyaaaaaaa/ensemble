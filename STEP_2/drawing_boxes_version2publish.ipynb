{
 "cells": [
  {
   "cell_type": "code",
   "execution_count": 1,
   "id": "ed70c1b5",
   "metadata": {},
   "outputs": [],
   "source": [
    "from pathlib import Path\n",
    "import torch\n",
    "\n",
    "\n",
    "\n",
    "import os\n",
    "\n",
    "os.environ[\"HF_TOKEN\"] = '<YOUR TOKEN>'\n",
    "\n",
    "import os\n",
    "import glob\n",
    "from pathlib import Path\n",
    "import PIL\n",
    "from PIL import Image\n",
    "\n",
    "\n",
    "\n",
    "import requests\n",
    "import json\n",
    "import pandas as pd\n",
    "import matplotlib.patches as patches\n",
    "import matplotlib.colors as mcolors\n",
    "import numpy as np\n",
    "import matplotlib.pyplot as plt\n",
    "COLORS = [k  for  k in  mcolors.CSS4_COLORS.keys()]\n",
    "\n",
    "import os\n",
    "import glob\n",
    "from pathlib import Path\n",
    "import PIL\n",
    "from PIL import Image"
   ]
  },
  {
   "cell_type": "code",
   "execution_count": 2,
   "id": "f92233f1",
   "metadata": {},
   "outputs": [
    {
     "name": "stdout",
     "output_type": "stream",
     "text": [
      "Tue Dec 17 19:27:05 2024       \n",
      "+-----------------------------------------------------------------------------+\n",
      "| NVIDIA-SMI 525.105.17   Driver Version: 525.105.17   CUDA Version: 12.4     |\n",
      "|-------------------------------+----------------------+----------------------+\n",
      "| GPU  Name        Persistence-M| Bus-Id        Disp.A | Volatile Uncorr. ECC |\n",
      "| Fan  Temp  Perf  Pwr:Usage/Cap|         Memory-Usage | GPU-Util  Compute M. |\n",
      "|                               |                      |               MIG M. |\n",
      "|===============================+======================+======================|\n",
      "|   0  NVIDIA A100-SXM...  On   | 00000000:07:00.0 Off |                    0 |\n",
      "| N/A   34C    P0    78W / 400W |  61677MiB / 81920MiB |      0%      Default |\n",
      "|                               |                      |             Disabled |\n",
      "+-------------------------------+----------------------+----------------------+\n",
      "|   1  NVIDIA A100-SXM...  On   | 00000000:0A:00.0 Off |                    0 |\n",
      "| N/A   29C    P0    88W / 400W |  61683MiB / 81920MiB |     13%      Default |\n",
      "|                               |                      |             Disabled |\n",
      "+-------------------------------+----------------------+----------------------+\n",
      "|   2  NVIDIA A100-SXM...  On   | 00000000:45:00.0 Off |                    0 |\n",
      "| N/A   29C    P0    73W / 400W |  61683MiB / 81920MiB |      0%      Default |\n",
      "|                               |                      |             Disabled |\n",
      "+-------------------------------+----------------------+----------------------+\n",
      "|   3  NVIDIA A100-SXM...  On   | 00000000:4B:00.0 Off |                    0 |\n",
      "| N/A   34C    P0    81W / 400W |  61679MiB / 81920MiB |      0%      Default |\n",
      "|                               |                      |             Disabled |\n",
      "+-------------------------------+----------------------+----------------------+\n",
      "|   4  NVIDIA A100-SXM...  On   | 00000000:83:00.0 Off |                    0 |\n",
      "| N/A   39C    P0    80W / 400W |  61685MiB / 81920MiB |      0%      Default |\n",
      "|                               |                      |             Disabled |\n",
      "+-------------------------------+----------------------+----------------------+\n",
      "|   5  NVIDIA A100-SXM...  On   | 00000000:89:00.0 Off |                    0 |\n",
      "| N/A   34C    P0    77W / 400W |  29621MiB / 81920MiB |     32%      Default |\n",
      "|                               |                      |             Disabled |\n",
      "+-------------------------------+----------------------+----------------------+\n",
      "|   6  NVIDIA A100-SXM...  On   | 00000000:C0:00.0 Off |                    0 |\n",
      "| N/A   26C    P0    60W / 400W |      0MiB / 81920MiB |      0%      Default |\n",
      "|                               |                      |             Disabled |\n",
      "+-------------------------------+----------------------+----------------------+\n",
      "|   7  NVIDIA A100-SXM...  On   | 00000000:C3:00.0 Off |                    0 |\n",
      "| N/A   31C    P0    71W / 400W |  29621MiB / 81920MiB |      0%      Default |\n",
      "|                               |                      |             Disabled |\n",
      "+-------------------------------+----------------------+----------------------+\n",
      "                                                                               \n",
      "+-----------------------------------------------------------------------------+\n",
      "| Processes:                                                                  |\n",
      "|  GPU   GI   CI        PID   Type   Process name                  GPU Memory |\n",
      "|        ID   ID                                                   Usage      |\n",
      "|=============================================================================|\n",
      "|    0   N/A  N/A   4184690      C   python                          61674MiB |\n",
      "|    1   N/A  N/A      1176      C   python                          61680MiB |\n",
      "|    2   N/A  N/A     34286      C   python                          61680MiB |\n",
      "|    3   N/A  N/A     41934      C   python                          61676MiB |\n",
      "|    4   N/A  N/A    101312      C   python                          61682MiB |\n",
      "|    5   N/A  N/A   4108454      C   ...oundingMaira2/bin/python3    29618MiB |\n",
      "|    7   N/A  N/A   1797061      C   ...oundingMaira2/bin/python3    29618MiB |\n",
      "+-----------------------------------------------------------------------------+\n"
     ]
    }
   ],
   "source": [
    "!nvidia-smi"
   ]
  },
  {
   "cell_type": "code",
   "execution_count": 4,
   "id": "b741f20b",
   "metadata": {},
   "outputs": [],
   "source": [
    "import os\n",
    "os.environ[\"CUDA_VISIBLE_DEVICES\"] = \"6\"\n",
    "\n"
   ]
  },
  {
   "cell_type": "code",
   "execution_count": 5,
   "id": "76ef43d3",
   "metadata": {},
   "outputs": [],
   "source": [
    "\n",
    "with open('<NAME>.json', 'r') as file: # ground truth bboxes\n",
    "    orig_maira = json.load(file)\n",
    "\n",
    "with open('<NAME>.json', 'r') as file: #bboxes predicted by MedRPG\n",
    "    medrpg = json.load(file)\n",
    "    \n",
    "with open('<NAME>.json', 'r') as file: #bboxes predicted by Maira\n",
    "    maira = json.load(file)\n"
   ]
  },
  {
   "cell_type": "code",
   "execution_count": 6,
   "id": "411745a5",
   "metadata": {},
   "outputs": [],
   "source": [
    "#two firectories, where images with bboxes will be. without_gt - the images without groundtruth bbox\n",
    "# with_gt - the images with groundtruth bbox\n",
    "\n",
    "!mkdir \"without_gt\" \n",
    "!mkdir \"with_gt\" "
   ]
  },
  {
   "cell_type": "code",
   "execution_count": 7,
   "id": "69b378fc",
   "metadata": {},
   "outputs": [
    {
     "data": {
      "text/plain": [
       "373"
      ]
     },
     "execution_count": 7,
     "metadata": {},
     "output_type": "execute_result"
    }
   ],
   "source": [
    "gold_500 = pd.read_csv('gold_500.csv')\n",
    "body_parts = gold_500.bbox_name.unique()"
   ]
  },
  {
   "cell_type": "markdown",
   "id": "ab55842c",
   "metadata": {},
   "source": [
    "# PICTURES WITH MAIRA, MEDRPG AND GROUNDTRUTH BBOXES"
   ]
  },
  {
   "cell_type": "code",
   "execution_count": null,
   "id": "190a2354",
   "metadata": {},
   "outputs": [],
   "source": [
    "from tqdm import tqdm\n",
    "from IPython.display import clear_output\n",
    "\n",
    "\n",
    "#ground truth - blue\n",
    "#maira - red\n",
    "#medrpg  - yellow\n",
    "\n",
    "for part in body_parts:\n",
    "    \n",
    "    clear_output(wait=True)\n",
    "    parent_dir1 = \"with_gt\"\n",
    "    path1 = os.path.join(parent_dir1, part)  #folder with all the body part pictures\n",
    "\n",
    "    os.mkdir(path1)\n",
    "    for image in tqdm(list(maira[part].keys())):\n",
    "        mimic = '<PATH_TO_MIMIC_500>'\n",
    "        path2image = os.path.join(mimic, image)\n",
    "        \n",
    "        x_o, y_o, w_o, h_o = orig_maira[part][image]\n",
    "        x_maira, y_maira, w_maira, h_maira = maira[part][image]\n",
    "        x_med, y_med, w_med, h_med = medrpg[part][image]\n",
    "        \n",
    "        fig, ax = plt.subplots()\n",
    "        \n",
    "        img_try = Image.open(path2image).convert(\"RGB\").resize((500, 500))\n",
    "        ax.imshow(np.flipud(img_try), origin='lower')\n",
    "        \n",
    "        #original\n",
    "        rect1 = patches.Rectangle((x_o,  500 - y_o), w_o, -h_o, linewidth=3, edgecolor='blue', facecolor='none')\n",
    "\n",
    "        ax.add_patch(rect1)\n",
    "\n",
    "        \n",
    "        #maira\n",
    "        rect2 = patches.Rectangle((x_maira,   500 - y_maira), w_maira, -h_maira, linewidth=3, edgecolor='red', facecolor='none')\n",
    "\n",
    "        ax.add_patch(rect2)\n",
    "\n",
    "        \n",
    "        #medrpg\n",
    "        rect3 = patches.Rectangle((x_med,  500 - y_med), w_med, -h_med, linewidth=3, edgecolor='yellow', facecolor='none')\n",
    "\n",
    "        ax.add_patch(rect3)\n",
    "\n",
    "        plt.show()\n",
    "        path_image = os.path.join(path1, image) \n",
    "        fig.savefig(path_image)\n",
    "#         print(x_o)\n",
    "            \n",
    "    "
   ]
  },
  {
   "cell_type": "markdown",
   "id": "640f8b81",
   "metadata": {},
   "source": [
    "# PICTURES WITH MAIRA, MEDRPG BBOXES"
   ]
  },
  {
   "cell_type": "code",
   "execution_count": 9,
   "id": "89d740e5",
   "metadata": {},
   "outputs": [],
   "source": [
    "from tqdm import tqdm\n",
    "\n",
    "for part in body_parts:\n",
    "\n",
    "    parent_dir2 = \"without_gt\"\n",
    "    path2 = os.path.join(parent_dir2, part)   #folder with all the body part pict\n",
    "    os.mkdir(path2)\n",
    "    \n",
    "    for image in tqdm(list(maira[part].keys())):\n",
    "        mimic = '<PATH_TO_MIMIC_500>'\n",
    "        path2image = os.path.join(mimic, image)\n",
    "        \n",
    "        x_o, y_o, w_o, h_o = orig_maira[part][image]\n",
    "        x_maira, y_maira, w_maira, h_maira = maira[part][image]\n",
    "        x_med, y_med, w_med, h_med = medrpg[part][image]\n",
    "        \n",
    "        fig, ax = plt.subplots()\n",
    "        \n",
    "        img_try = Image.open(path2image).convert(\"RGB\").resize((500, 500))\n",
    "        ax.imshow(np.flipud(img_try), origin='lower')\n",
    "        \n",
    "        \n",
    "        #maira\n",
    "        rect2 = patches.Rectangle((x_maira,   500 - y_maira), w_maira, -h_maira, linewidth=3, edgecolor='red', facecolor='none')\n",
    "\n",
    "        ax.add_patch(rect2)\n",
    "\n",
    "        \n",
    "        #medrpg\n",
    "        rect3 = patches.Rectangle((x_med,  500 - y_med), w_med, -h_med, linewidth=3, edgecolor='yellow', facecolor='none')\n",
    "\n",
    "        ax.add_patch(rect3)\n",
    "\n",
    "        plt.show()\n",
    "        path_image = os.path.join(path2, image) \n",
    "        fig.savefig(path_image)\n",
    "\n",
    "            \n",
    "    "
   ]
  },
  {
   "cell_type": "code",
   "execution_count": null,
   "id": "42d7ba2e",
   "metadata": {},
   "outputs": [],
   "source": []
  },
  {
   "cell_type": "code",
   "execution_count": null,
   "id": "17ba5a8d",
   "metadata": {},
   "outputs": [],
   "source": []
  }
 ],
 "metadata": {
  "kernelspec": {
   "display_name": "GroundingMaira2",
   "language": "python",
   "name": "groundingmaira2"
  },
  "language_info": {
   "codemirror_mode": {
    "name": "ipython",
    "version": 3
   },
   "file_extension": ".py",
   "mimetype": "text/x-python",
   "name": "python",
   "nbconvert_exporter": "python",
   "pygments_lexer": "ipython3",
   "version": "3.10.12"
  }
 },
 "nbformat": 4,
 "nbformat_minor": 5
}
